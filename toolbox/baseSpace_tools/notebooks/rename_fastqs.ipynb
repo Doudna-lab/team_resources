{
 "cells": [
  {
   "cell_type": "code",
   "outputs": [],
   "source": [
    "import re\n",
    "import os\n",
    "import subprocess"
   ],
   "metadata": {
    "collapsed": false,
    "ExecuteTime": {
     "end_time": "2024-06-12T23:33:20.230927Z",
     "start_time": "2024-06-12T23:33:20.228341Z"
    }
   },
   "id": "c3c0eb0dbf5b105e",
   "execution_count": 27
  },
  {
   "cell_type": "markdown",
   "source": [
    "## Constants"
   ],
   "metadata": {
    "collapsed": false
   },
   "id": "86313ef302f97e9a"
  },
  {
   "cell_type": "code",
   "outputs": [],
   "source": [
    "TARGET_DIR = '/groups/clinical/projects/Azenta_Data/30-1028161625' \n",
    "\n",
    "# Set the sample pattern -> commonly the string of characters before R1 or R2\n",
    "#   The variable string is commonly a set of two or three digits. \n",
    "#   Replace that accordingly with a regex\n",
    "FILENAME_SAMPLE_PATTERN = re.compile(\"(IGU-\\d+-N1-WGS)_(R\\d+)\") \n",
    "\n",
    "SWAP_UNDERSCORES = False"
   ],
   "metadata": {
    "collapsed": false,
    "ExecuteTime": {
     "end_time": "2024-06-14T17:09:06.085267Z",
     "start_time": "2024-06-14T17:09:06.081654Z"
    }
   },
   "id": "cf7d6ed2aa2dce83",
   "execution_count": 45
  },
  {
   "cell_type": "code",
   "outputs": [],
   "source": [
    "for root, dirs, files in os.walk(TARGET_DIR.rstrip(os.sep)):\n",
    "    for file in files:\n",
    "        if FILENAME_SAMPLE_PATTERN.match(file):                        \n",
    "            match_groups = FILENAME_SAMPLE_PATTERN.match(file).groups()\n",
    "            \n",
    "            file_prefix = match_groups[0]\n",
    "            read_index = match_groups[1]\n",
    "            \n",
    "            if SWAP_UNDERSCORES:\n",
    "                file_prefix = re.sub(\"_\", \"-\", file_prefix)\n",
    "                        \n",
    "            old_filepath = f\"{root}/{file}\"\n",
    "            new_filepath = f\"{root}/{file_prefix}_S1_L001_{read_index}_001.fastq.gz\"\n",
    "            \n",
    "            cmd = f\"mv {old_filepath} {new_filepath}\"\n",
    "            subprocess.run(cmd, shell=True)\n"
   ],
   "metadata": {
    "collapsed": false,
    "ExecuteTime": {
     "end_time": "2024-06-14T17:09:18.871835Z",
     "start_time": "2024-06-14T17:09:07.892923Z"
    }
   },
   "id": "c3d83a00c39f30bf",
   "execution_count": 46
  },
  {
   "cell_type": "code",
   "outputs": [],
   "source": [],
   "metadata": {
    "collapsed": false
   },
   "id": "69165c358f18db6c"
  }
 ],
 "metadata": {
  "kernelspec": {
   "display_name": "Python 3",
   "language": "python",
   "name": "python3"
  },
  "language_info": {
   "codemirror_mode": {
    "name": "ipython",
    "version": 2
   },
   "file_extension": ".py",
   "mimetype": "text/x-python",
   "name": "python",
   "nbconvert_exporter": "python",
   "pygments_lexer": "ipython2",
   "version": "2.7.6"
  }
 },
 "nbformat": 4,
 "nbformat_minor": 5
}
