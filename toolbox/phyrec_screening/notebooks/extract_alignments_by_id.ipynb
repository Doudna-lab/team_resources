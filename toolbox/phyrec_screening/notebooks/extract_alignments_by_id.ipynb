{
 "cells": [
  {
   "cell_type": "markdown",
   "source": [],
   "metadata": {
    "collapsed": false
   },
   "id": "270e33d1a364fd8f"
  },
  {
   "cell_type": "code",
   "outputs": [],
   "source": [
    "from Bio import AlignIO, SeqIO"
   ],
   "metadata": {
    "collapsed": false,
    "ExecuteTime": {
     "end_time": "2024-02-07T00:56:56.263050Z",
     "start_time": "2024-02-07T00:56:56.244796Z"
    }
   },
   "id": "76f65b03972dacc9",
   "execution_count": 75
  },
  {
   "cell_type": "code",
   "outputs": [],
   "source": [
    "SEQ_PATH = \"/groups/doudna/team_resources/toolbox/phyrec_screening/dump/Kapitonov_2010_CD01651.fasta\"\n",
    "ID_LIST_PATH = \"/groups/doudna/team_resources/toolbox/phyrec_screening/dump/eukaryotic_idlist.txt\"\n",
    "OUTPUT_PATH = \"/groups/doudna/projects/daniel_projects/boger_r/reference_msa/G2II_nLTR_RT_EUK.msa.fasta\""
   ],
   "metadata": {
    "collapsed": false,
    "ExecuteTime": {
     "end_time": "2024-02-07T00:51:50.605996Z",
     "start_time": "2024-02-07T00:51:50.590844Z"
    }
   },
   "id": "827fb183ddd8df9c",
   "execution_count": 63
  },
  {
   "cell_type": "code",
   "outputs": [],
   "source": [
    "#\n",
    "with open(SEQ_PATH, 'r') as sequence_file:\n",
    "    records = AlignIO.read(sequence_file, \"fasta\")\n",
    "\n",
    "#\n",
    "id_list = []\n",
    "with open(ID_LIST_PATH, 'r') as input_list:\n",
    "    for line in input_list:\n",
    "        id_list.append(line.strip())"
   ],
   "metadata": {
    "collapsed": false,
    "ExecuteTime": {
     "end_time": "2024-02-07T00:55:07.924840Z",
     "start_time": "2024-02-07T00:55:07.901894Z"
    }
   },
   "id": "b1513e48757f6fb0",
   "execution_count": 71
  },
  {
   "cell_type": "code",
   "outputs": [],
   "source": [
    "#\n",
    "match_list = []\n",
    "for rec in records:\n",
    "    matches = filter(None, map(lambda x: rec if x == rec.id else None, id_list))\n",
    "    match_list.extend(matches)"
   ],
   "metadata": {
    "collapsed": false,
    "ExecuteTime": {
     "end_time": "2024-02-07T00:55:08.958347Z",
     "start_time": "2024-02-07T00:55:08.950460Z"
    }
   },
   "id": "3f81535ec9dde8bf",
   "execution_count": 72
  },
  {
   "cell_type": "code",
   "outputs": [],
   "source": [
    "with open(OUTPUT_PATH, 'w') as fasta_output:\n",
    "    SeqIO.write(match_list, fasta_output, 'fasta')"
   ],
   "metadata": {
    "collapsed": false,
    "ExecuteTime": {
     "end_time": "2024-02-07T00:57:00.366107Z",
     "start_time": "2024-02-07T00:57:00.331507Z"
    }
   },
   "id": "684746b3c872e6b",
   "execution_count": 76
  },
  {
   "cell_type": "code",
   "outputs": [],
   "source": [],
   "metadata": {
    "collapsed": false
   },
   "id": "6e6047fd12ce3fa0"
  }
 ],
 "metadata": {
  "kernelspec": {
   "display_name": "Python 3",
   "language": "python",
   "name": "python3"
  },
  "language_info": {
   "codemirror_mode": {
    "name": "ipython",
    "version": 2
   },
   "file_extension": ".py",
   "mimetype": "text/x-python",
   "name": "python",
   "nbconvert_exporter": "python",
   "pygments_lexer": "ipython2",
   "version": "2.7.6"
  }
 },
 "nbformat": 4,
 "nbformat_minor": 5
}
